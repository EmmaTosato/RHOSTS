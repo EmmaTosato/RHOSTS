{
 "cells": [
  {
   "cell_type": "code",
   "id": "initial_id",
   "metadata": {
    "collapsed": true,
    "ExecuteTime": {
     "end_time": "2025-04-09T08:22:14.475087Z",
     "start_time": "2025-04-09T08:22:07.431308Z"
    }
   },
   "source": [
    "import numpy as np\n",
    "import matplotlib.pyplot as plt\n",
    "from scipy.io import loadmat"
   ],
   "outputs": [],
   "execution_count": 1
  },
  {
   "metadata": {},
   "cell_type": "markdown",
   "source": "# Data",
   "id": "50af9762b31dfc1a"
  },
  {
   "metadata": {
    "ExecuteTime": {
     "end_time": "2025-04-08T09:05:40.858009Z",
     "start_time": "2025-04-08T09:05:40.847939Z"
    }
   },
   "cell_type": "code",
   "source": "data = loadmat('/Kaneko_CLM/TS_Schaefer100S_gsr_bp_z.mat')",
   "id": "500144136a27c618",
   "outputs": [],
   "execution_count": 3
  },
  {
   "metadata": {
    "ExecuteTime": {
     "end_time": "2025-04-08T09:14:22.191990Z",
     "start_time": "2025-04-08T09:14:22.188486Z"
    }
   },
   "cell_type": "code",
   "source": [
    "# Some data informations\n",
    "print(data.keys())\n",
    "print(type(data['TS']))\n",
    "print(data['TS'].shape)\n",
    "TS = data['TS']"
   ],
   "id": "396ca8733c43e34e",
   "outputs": [
    {
     "name": "stdout",
     "output_type": "stream",
     "text": [
      "dict_keys(['__header__', '__version__', '__globals__', 'TS'])\n",
      "<class 'numpy.ndarray'>\n",
      "(119, 1200)\n"
     ]
    }
   ],
   "execution_count": 16
  },
  {
   "metadata": {
    "ExecuteTime": {
     "end_time": "2025-04-08T09:14:31.593764Z",
     "start_time": "2025-04-08T09:14:31.588100Z"
    }
   },
   "cell_type": "code",
   "source": "TS[:5]",
   "id": "c0487e4f05c8c354",
   "outputs": [
    {
     "data": {
      "text/plain": [
       "array([[ 0.42840174,  1.0687296 ,  1.618835  , ..., -2.050148  ,\n",
       "        -1.9216338 , -1.4539335 ],\n",
       "       [-0.51615393, -1.1225122 , -1.5559545 , ...,  0.1071309 ,\n",
       "        -0.20474166, -0.31939682],\n",
       "       [-0.11200012, -0.7217072 , -1.3227609 , ...,  1.3014971 ,\n",
       "         0.9631817 ,  0.61945456],\n",
       "       [ 0.9009101 ,  1.0392194 ,  0.98051906, ..., -1.0508194 ,\n",
       "        -1.0570711 , -1.0428898 ],\n",
       "       [-0.6016095 , -1.2583206 , -1.6848183 , ...,  1.1024731 ,\n",
       "         0.7963203 ,  0.4396999 ]], dtype=float32)"
      ]
     },
     "execution_count": 17,
     "metadata": {},
     "output_type": "execute_result"
    }
   ],
   "execution_count": 17
  },
  {
   "metadata": {
    "ExecuteTime": {
     "end_time": "2025-04-08T09:14:08.599665Z",
     "start_time": "2025-04-08T09:14:08.595424Z"
    }
   },
   "cell_type": "code",
   "source": "TS.shape",
   "id": "d3d3995e69c2fadd",
   "outputs": [
    {
     "data": {
      "text/plain": [
       "(119, 1200)"
      ]
     },
     "execution_count": 15,
     "metadata": {},
     "output_type": "execute_result"
    }
   ],
   "execution_count": 15
  },
  {
   "metadata": {},
   "cell_type": "markdown",
   "source": [
    "- 119 rows: Representing 119 brain regions of interest (ROIs).\n",
    "\n",
    "- 1200 columns: Representing time points or temporal samples.\n",
    "\n",
    "\n"
   ],
   "id": "bcd815541a246937"
  },
  {
   "metadata": {
    "ExecuteTime": {
     "end_time": "2025-04-08T10:19:04.390622Z",
     "start_time": "2025-04-08T10:19:04.353338Z"
    }
   },
   "cell_type": "code",
   "source": "np.savetxt('../Kaneko_CLM/subject1.txt', TS, fmt='%f')",
   "id": "15f347e657f7476e",
   "outputs": [],
   "execution_count": 18
  }
 ],
 "metadata": {
  "kernelspec": {
   "display_name": "Python 3",
   "language": "python",
   "name": "python3"
  },
  "language_info": {
   "codemirror_mode": {
    "name": "ipython",
    "version": 2
   },
   "file_extension": ".py",
   "mimetype": "text/x-python",
   "name": "python",
   "nbconvert_exporter": "python",
   "pygments_lexer": "ipython2",
   "version": "2.7.6"
  }
 },
 "nbformat": 4,
 "nbformat_minor": 5
}
